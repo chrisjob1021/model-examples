{
 "cells": [
  {
   "cell_type": "code",
   "execution_count": 1,
   "metadata": {},
   "outputs": [
    {
     "name": "stdout",
     "output_type": "stream",
     "text": [
      "PyTorch output:\n",
      " tensor([[348., 393.],\n",
      "        [528., 573.]])\n",
      "\n",
      "Convolution matrix A (rows = outputs, cols = input pixels):\n",
      "\n",
      "tensor([[1., 2., 3., 0., 4., 5., 6., 0., 7., 8., 9., 0., 0., 0., 0., 0.],\n",
      "        [0., 1., 2., 3., 0., 4., 5., 6., 0., 7., 8., 9., 0., 0., 0., 0.],\n",
      "        [0., 0., 0., 0., 1., 2., 3., 0., 4., 5., 6., 0., 7., 8., 9., 0.],\n",
      "        [0., 0., 0., 0., 0., 1., 2., 3., 0., 4., 5., 6., 0., 7., 8., 9.]])\n"
     ]
    }
   ],
   "source": [
    "import torch\n",
    "import torch.nn.functional as F\n",
    "import numpy as np\n",
    "\n",
    "# ------------------------------------------------------------------\n",
    "# 1) “Image”  (4 × 4)   and   Kernel  (3 × 3)\n",
    "v_img = torch.tensor([[1,  2,  3,  4],\n",
    "                      [5,  6,  7,  8],\n",
    "                      [9, 10, 11, 12],\n",
    "                      [13,14, 15, 16]], dtype=torch.float32)\n",
    "\n",
    "kernel = torch.tensor([[1, 2, 3],\n",
    "                       [4, 5, 6],\n",
    "                       [7, 8, 9]], dtype=torch.float32)\n",
    "\n",
    "# Reshape to NCHW and OIHW so F.conv2d is happy\n",
    "v_bchw = v_img.unsqueeze(0).unsqueeze(0)      # (1,1,4,4)\n",
    "w_oihw = kernel.unsqueeze(0).unsqueeze(0)     # (1,1,3,3)\n",
    "\n",
    "y_torch = F.conv2d(v_bchw, w_oihw, stride=1, padding=0)  # (1,1,2,2)\n",
    "print(\"PyTorch output:\\n\", y_torch.squeeze())            # [[348, 393], [528, 573]]\n",
    "\n",
    "# ------------------------------------------------------------------\n",
    "# 2) Build the explicit convolution matrix A  (4 × 16)\n",
    "H, W = 4, 4\n",
    "out_h, out_w = 2, 2\n",
    "A = torch.zeros(out_h * out_w, H * W)\n",
    "\n",
    "for p in range(H * W):\n",
    "    # make a delta-image with a 1.0 at pixel p\n",
    "    delta = torch.zeros_like(v_bchw)\n",
    "    r, c = divmod(p, W)\n",
    "    delta[0, 0, r, c] = 1.0\n",
    "\n",
    "    # convolve: the result is this *column* of A\n",
    "    A[:, p] = F.conv2d(delta, w_oihw).flatten()\n",
    "\n",
    "# Sanity check:   A @ vec(v)  ==  y_torch ?\n",
    "v_flat = v_img.flatten()\n",
    "y_from_A = A @ v_flat\n",
    "assert torch.allclose(y_from_A, y_torch.flatten())\n",
    "\n",
    "print(\"\\nConvolution matrix A (rows = outputs, cols = input pixels):\\n\")\n",
    "print(A)"
   ]
  }
 ],
 "metadata": {
  "kernelspec": {
   "display_name": ".venv",
   "language": "python",
   "name": "python3"
  },
  "language_info": {
   "codemirror_mode": {
    "name": "ipython",
    "version": 3
   },
   "file_extension": ".py",
   "mimetype": "text/x-python",
   "name": "python",
   "nbconvert_exporter": "python",
   "pygments_lexer": "ipython3",
   "version": "3.13.2"
  }
 },
 "nbformat": 4,
 "nbformat_minor": 2
}
